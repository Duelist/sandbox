{
 "metadata": {
  "language": "Julia",
  "name": "",
  "signature": "sha256:520ff759b8fe2d1772532e839871d1404205bffd29aa14b4ad3cd3d26c5c4ac1"
 },
 "nbformat": 3,
 "nbformat_minor": 0,
 "worksheets": [
  {
   "cells": [
    {
     "cell_type": "code",
     "collapsed": false,
     "input": [
      "using Gadfly"
     ],
     "language": "python",
     "metadata": {},
     "outputs": [],
     "prompt_number": 1
    },
    {
     "cell_type": "code",
     "collapsed": false,
     "input": [
      "data = readdlm(\"../../../datasets/ml-ex1/ex1data2.txt\", ',');"
     ],
     "language": "python",
     "metadata": {},
     "outputs": [],
     "prompt_number": 2
    },
    {
     "cell_type": "code",
     "collapsed": false,
     "input": [
      "oX = data[:,1:2];\n",
      "y = data[:,3];\n",
      "m = length(y);\n",
      "X = [ones(m, 1) oX];"
     ],
     "language": "python",
     "metadata": {},
     "outputs": [],
     "prompt_number": 5
    },
    {
     "cell_type": "code",
     "collapsed": false,
     "input": [
      "function feature_normalize(X)\n",
      "    means = mean(X, 1)\n",
      "    return collect(X)\n",
      "end\n",
      "\n",
      "feature_normalize(oX)"
     ],
     "language": "python",
     "metadata": {},
     "outputs": [
      {
       "metadata": {},
       "output_type": "pyout",
       "prompt_number": 30,
       "text": [
        "94-element Array{Float64,1}:\n",
        " 2104.0\n",
        " 1600.0\n",
        " 2400.0\n",
        " 1416.0\n",
        " 3000.0\n",
        " 1985.0\n",
        " 1534.0\n",
        " 1427.0\n",
        " 1380.0\n",
        " 1494.0\n",
        " 1940.0\n",
        " 2000.0\n",
        " 1890.0\n",
        "    \u22ee  \n",
        "    3.0\n",
        "    3.0\n",
        "    4.0\n",
        "    4.0\n",
        "    4.0\n",
        "    2.0\n",
        "    3.0\n",
        "    4.0\n",
        "    3.0\n",
        "    2.0\n",
        "    4.0\n",
        "    3.0"
       ]
      }
     ],
     "prompt_number": 30
    },
    {
     "cell_type": "code",
     "collapsed": false,
     "input": [],
     "language": "python",
     "metadata": {},
     "outputs": []
    }
   ],
   "metadata": {}
  }
 ]
}